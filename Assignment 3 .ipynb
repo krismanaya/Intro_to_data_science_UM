{
 "cells": [
  {
   "cell_type": "code",
   "execution_count": 3,
   "metadata": {
    "collapsed": false
   },
   "outputs": [],
   "source": [
    "import pandas as pd\n",
    "import numpy as np\n"
   ]
  },
  {
   "cell_type": "markdown",
   "metadata": {},
   "source": [
    "# Assignment 3 - More Pandas\n",
    "All questions are weighted the same in this assignment. This assignment requires more individual learning then the last one did - you are encouraged to check out the [pandas documentation](http://pandas.pydata.org/pandas-docs/stable/) to find functions or methods you might not have used yet, or ask questions on [Stack Overflow](http://stackoverflow.com/) and tag them as pandas and python related. And of course, the discussion forums are open for interaction with your peers and the course staff."
   ]
  },
  {
   "cell_type": "markdown",
   "metadata": {},
   "source": [
    "### Question 1\n",
    "Load the energy data from the file `Energy Indicators.xls`, which is a list of indicators of [energy supply and renewable electricity production](Energy%20Indicators.xls) from the [United Nations](http://unstats.un.org/unsd/environment/excel_file_tables/2013/Energy%20Indicators.xls) for the year 2013, and should be put into a DataFrame with the variable name of **energy**.\n",
    "\n",
    "Keep in mind that this is an Excel file, and not a comma separated values file. Also, make sure to exclude the footer and header information from the datafile. The first two columns are unneccessary, so you should get rid of them, and you should change the column labels so that the columns are:\n",
    "\n",
    "`['Country', 'Energy Supply', 'Energy Supply per Capita', '% Renewable's]`\n",
    "\n",
    "Convert the energy supply and the energy supply per capita to gigajoules (there are 1,000,000 gigajoules in a petajoule). For all countries which have missing data (e.g. data with \"...\") make sure this is reflected as `np.NaN` values.\n",
    "\n",
    "Rename the following list of countries (for use in later questions):\n",
    "\n",
    "```\"Republic of Korea\": \"South Korea\",\n",
    "\"United States of America\": \"United States\",\n",
    "\"United Kingdom of Great Britain and Northern Ireland\": \"United Kingdom\",\n",
    "\"China, Hong Kong Special Administrative Region\": \"Hong Kong\"```\n",
    "\n",
    "There are also several countries with parenthesis in their name. Be sure to remove these, e.g. `'Bolivia (Plurinational State of)'` should be `'Bolivia'`.\n",
    "\n",
    "<br>\n",
    "\n",
    "Next, load the GDP data from the file `world_bank.csv`, which is a csv containing countries' GDP from 1960 to 2015 from [World Bank](http://data.worldbank.org/indicator/NY.GDP.MKTP.CD). Call this DataFrame **GDP**. \n",
    "\n",
    "Make sure to skip the header, and rename the following list of countries:\n",
    "\n",
    "```\"Korea, Rep.\": \"South Korea\", \n",
    "\"Iran, Islamic Rep.\": \"Iran\",\n",
    "\"Hong Kong SAR, China\": \"Hong Kong\"```\n",
    "\n",
    "<br>\n",
    "\n",
    "Finally, load the [Sciamgo Journal and Country Rank data for Energy Engineering and Power Technology](http://www.scimagojr.com/countryrank.php?category=2102), which ranks countries based on their journal contributions in the aforementioned area. Call this DataFrame **ScimEn**.\n",
    "\n",
    "Join the three datasets: GDP, Energy, and ScimEn into a new dataset (using the intersection of country names). Use only the last 10 years (2006-2015) of GDP data and only the top 15 countries by Scimagojr 'Rank' (Rank 1 through 15). \n",
    "\n",
    "The index of this DataFrame should be the name of the country.\n",
    "\n",
    "*This function should return a DataFrame with 20 columns and 15 entries.*"
   ]
  },
  {
   "cell_type": "code",
   "execution_count": 4,
   "metadata": {
    "collapsed": false
   },
   "outputs": [
    {
     "name": "stderr",
     "output_type": "stream",
     "text": [
      "/usr/local/lib/python2.7/site-packages/pandas/tools/merge.py:714: UnicodeWarning: Unicode equal comparison failed to convert both arguments to Unicode - interpreting them as being unequal\n",
      "  rlab = rizer.factorize(rk)\n"
     ]
    },
    {
     "data": {
      "text/html": [
       "<div>\n",
       "<table border=\"1\" class=\"dataframe\">\n",
       "  <thead>\n",
       "    <tr style=\"text-align: right;\">\n",
       "      <th></th>\n",
       "      <th>Rank</th>\n",
       "      <th>Documents</th>\n",
       "      <th>Citable documents</th>\n",
       "      <th>Citations</th>\n",
       "      <th>Self-citations</th>\n",
       "      <th>Citations per document</th>\n",
       "      <th>H index</th>\n",
       "      <th>Energy Supply</th>\n",
       "      <th>Energy Supply per Capita</th>\n",
       "      <th>% Renewable</th>\n",
       "      <th>2006</th>\n",
       "      <th>2007</th>\n",
       "      <th>2008</th>\n",
       "      <th>2009</th>\n",
       "      <th>2010</th>\n",
       "      <th>2011</th>\n",
       "      <th>2012</th>\n",
       "      <th>2013</th>\n",
       "      <th>2014</th>\n",
       "      <th>2015</th>\n",
       "    </tr>\n",
       "    <tr>\n",
       "      <th>Country</th>\n",
       "      <th></th>\n",
       "      <th></th>\n",
       "      <th></th>\n",
       "      <th></th>\n",
       "      <th></th>\n",
       "      <th></th>\n",
       "      <th></th>\n",
       "      <th></th>\n",
       "      <th></th>\n",
       "      <th></th>\n",
       "      <th></th>\n",
       "      <th></th>\n",
       "      <th></th>\n",
       "      <th></th>\n",
       "      <th></th>\n",
       "      <th></th>\n",
       "      <th></th>\n",
       "      <th></th>\n",
       "      <th></th>\n",
       "      <th></th>\n",
       "    </tr>\n",
       "  </thead>\n",
       "  <tbody>\n",
       "    <tr>\n",
       "      <th>China</th>\n",
       "      <td>1</td>\n",
       "      <td>127050</td>\n",
       "      <td>126767</td>\n",
       "      <td>597237</td>\n",
       "      <td>411683</td>\n",
       "      <td>4.70</td>\n",
       "      <td>138</td>\n",
       "      <td>1.271910e+11</td>\n",
       "      <td>93.0</td>\n",
       "      <td>19.754910</td>\n",
       "      <td>3.99233e+12</td>\n",
       "      <td>4.55904e+12</td>\n",
       "      <td>4.99778e+12</td>\n",
       "      <td>5.45925e+12</td>\n",
       "      <td>6.03966e+12</td>\n",
       "      <td>6.61249e+12</td>\n",
       "      <td>7.12498e+12</td>\n",
       "      <td>7.67245e+12</td>\n",
       "      <td>8.23012e+12</td>\n",
       "      <td>8.798e+12</td>\n",
       "    </tr>\n",
       "    <tr>\n",
       "      <th>United States</th>\n",
       "      <td>2</td>\n",
       "      <td>96661</td>\n",
       "      <td>94747</td>\n",
       "      <td>792274</td>\n",
       "      <td>265436</td>\n",
       "      <td>8.20</td>\n",
       "      <td>230</td>\n",
       "      <td>9.083800e+10</td>\n",
       "      <td>286.0</td>\n",
       "      <td>11.570980</td>\n",
       "      <td>1.47923e+13</td>\n",
       "      <td>1.50554e+13</td>\n",
       "      <td>1.50115e+13</td>\n",
       "      <td>1.45948e+13</td>\n",
       "      <td>1.49644e+13</td>\n",
       "      <td>1.5204e+13</td>\n",
       "      <td>1.55422e+13</td>\n",
       "      <td>1.57737e+13</td>\n",
       "      <td>1.61566e+13</td>\n",
       "      <td>1.65486e+13</td>\n",
       "    </tr>\n",
       "    <tr>\n",
       "      <th>Japan</th>\n",
       "      <td>3</td>\n",
       "      <td>30504</td>\n",
       "      <td>30287</td>\n",
       "      <td>223024</td>\n",
       "      <td>61554</td>\n",
       "      <td>7.31</td>\n",
       "      <td>134</td>\n",
       "      <td>1.898400e+10</td>\n",
       "      <td>149.0</td>\n",
       "      <td>10.232820</td>\n",
       "      <td>5.49654e+12</td>\n",
       "      <td>5.61704e+12</td>\n",
       "      <td>5.55853e+12</td>\n",
       "      <td>5.25131e+12</td>\n",
       "      <td>5.49872e+12</td>\n",
       "      <td>5.47374e+12</td>\n",
       "      <td>5.5691e+12</td>\n",
       "      <td>5.64466e+12</td>\n",
       "      <td>5.64288e+12</td>\n",
       "      <td>5.66956e+12</td>\n",
       "    </tr>\n",
       "    <tr>\n",
       "      <th>United Kingdom</th>\n",
       "      <td>4</td>\n",
       "      <td>20944</td>\n",
       "      <td>20357</td>\n",
       "      <td>206091</td>\n",
       "      <td>37874</td>\n",
       "      <td>9.84</td>\n",
       "      <td>139</td>\n",
       "      <td>7.920000e+09</td>\n",
       "      <td>124.0</td>\n",
       "      <td>10.600470</td>\n",
       "      <td>2.41963e+12</td>\n",
       "      <td>2.4822e+12</td>\n",
       "      <td>2.47061e+12</td>\n",
       "      <td>2.36705e+12</td>\n",
       "      <td>2.4035e+12</td>\n",
       "      <td>2.45091e+12</td>\n",
       "      <td>2.47981e+12</td>\n",
       "      <td>2.53337e+12</td>\n",
       "      <td>2.60564e+12</td>\n",
       "      <td>2.66633e+12</td>\n",
       "    </tr>\n",
       "    <tr>\n",
       "      <th>Russian Federation</th>\n",
       "      <td>5</td>\n",
       "      <td>18534</td>\n",
       "      <td>18301</td>\n",
       "      <td>34266</td>\n",
       "      <td>12422</td>\n",
       "      <td>1.85</td>\n",
       "      <td>57</td>\n",
       "      <td>3.070900e+10</td>\n",
       "      <td>214.0</td>\n",
       "      <td>17.288680</td>\n",
       "      <td>1.38579e+12</td>\n",
       "      <td>1.50407e+12</td>\n",
       "      <td>1.583e+12</td>\n",
       "      <td>1.4592e+12</td>\n",
       "      <td>1.52492e+12</td>\n",
       "      <td>1.58994e+12</td>\n",
       "      <td>1.64588e+12</td>\n",
       "      <td>1.66693e+12</td>\n",
       "      <td>1.67871e+12</td>\n",
       "      <td>1.61615e+12</td>\n",
       "    </tr>\n",
       "    <tr>\n",
       "      <th>Canada</th>\n",
       "      <td>6</td>\n",
       "      <td>17899</td>\n",
       "      <td>17620</td>\n",
       "      <td>215003</td>\n",
       "      <td>40930</td>\n",
       "      <td>12.01</td>\n",
       "      <td>149</td>\n",
       "      <td>1.043100e+10</td>\n",
       "      <td>296.0</td>\n",
       "      <td>61.945430</td>\n",
       "      <td>1.56447e+12</td>\n",
       "      <td>1.59674e+12</td>\n",
       "      <td>1.61271e+12</td>\n",
       "      <td>1.56514e+12</td>\n",
       "      <td>1.61341e+12</td>\n",
       "      <td>1.66409e+12</td>\n",
       "      <td>1.69313e+12</td>\n",
       "      <td>1.73069e+12</td>\n",
       "      <td>1.77349e+12</td>\n",
       "      <td>1.79261e+12</td>\n",
       "    </tr>\n",
       "    <tr>\n",
       "      <th>Germany</th>\n",
       "      <td>7</td>\n",
       "      <td>17027</td>\n",
       "      <td>16831</td>\n",
       "      <td>140566</td>\n",
       "      <td>27426</td>\n",
       "      <td>8.26</td>\n",
       "      <td>126</td>\n",
       "      <td>1.326100e+10</td>\n",
       "      <td>165.0</td>\n",
       "      <td>17.901530</td>\n",
       "      <td>3.33289e+12</td>\n",
       "      <td>3.44156e+12</td>\n",
       "      <td>3.47881e+12</td>\n",
       "      <td>3.28334e+12</td>\n",
       "      <td>3.4173e+12</td>\n",
       "      <td>3.54237e+12</td>\n",
       "      <td>3.55672e+12</td>\n",
       "      <td>3.56732e+12</td>\n",
       "      <td>3.62439e+12</td>\n",
       "      <td>3.68556e+12</td>\n",
       "    </tr>\n",
       "    <tr>\n",
       "      <th>India</th>\n",
       "      <td>8</td>\n",
       "      <td>15005</td>\n",
       "      <td>14841</td>\n",
       "      <td>128763</td>\n",
       "      <td>37209</td>\n",
       "      <td>8.58</td>\n",
       "      <td>115</td>\n",
       "      <td>3.319500e+10</td>\n",
       "      <td>26.0</td>\n",
       "      <td>14.969080</td>\n",
       "      <td>1.26589e+12</td>\n",
       "      <td>1.37487e+12</td>\n",
       "      <td>1.42836e+12</td>\n",
       "      <td>1.54948e+12</td>\n",
       "      <td>1.70846e+12</td>\n",
       "      <td>1.82187e+12</td>\n",
       "      <td>1.92424e+12</td>\n",
       "      <td>2.05198e+12</td>\n",
       "      <td>2.20062e+12</td>\n",
       "      <td>2.36721e+12</td>\n",
       "    </tr>\n",
       "    <tr>\n",
       "      <th>France</th>\n",
       "      <td>9</td>\n",
       "      <td>13153</td>\n",
       "      <td>12973</td>\n",
       "      <td>130632</td>\n",
       "      <td>28601</td>\n",
       "      <td>9.93</td>\n",
       "      <td>114</td>\n",
       "      <td>1.059700e+10</td>\n",
       "      <td>166.0</td>\n",
       "      <td>17.020280</td>\n",
       "      <td>2.60784e+12</td>\n",
       "      <td>2.66942e+12</td>\n",
       "      <td>2.67464e+12</td>\n",
       "      <td>2.59597e+12</td>\n",
       "      <td>2.64699e+12</td>\n",
       "      <td>2.70203e+12</td>\n",
       "      <td>2.70697e+12</td>\n",
       "      <td>2.72257e+12</td>\n",
       "      <td>2.72963e+12</td>\n",
       "      <td>2.76119e+12</td>\n",
       "    </tr>\n",
       "    <tr>\n",
       "      <th>South Korea</th>\n",
       "      <td>10</td>\n",
       "      <td>11983</td>\n",
       "      <td>11923</td>\n",
       "      <td>114675</td>\n",
       "      <td>22595</td>\n",
       "      <td>9.57</td>\n",
       "      <td>104</td>\n",
       "      <td>1.100700e+10</td>\n",
       "      <td>221.0</td>\n",
       "      <td>2.279353</td>\n",
       "      <td>9.4102e+11</td>\n",
       "      <td>9.92432e+11</td>\n",
       "      <td>1.02051e+12</td>\n",
       "      <td>1.02773e+12</td>\n",
       "      <td>1.0945e+12</td>\n",
       "      <td>1.1348e+12</td>\n",
       "      <td>1.16081e+12</td>\n",
       "      <td>1.19443e+12</td>\n",
       "      <td>1.23434e+12</td>\n",
       "      <td>1.26658e+12</td>\n",
       "    </tr>\n",
       "    <tr>\n",
       "      <th>Italy</th>\n",
       "      <td>11</td>\n",
       "      <td>10964</td>\n",
       "      <td>10794</td>\n",
       "      <td>111850</td>\n",
       "      <td>26661</td>\n",
       "      <td>10.20</td>\n",
       "      <td>106</td>\n",
       "      <td>6.530000e+09</td>\n",
       "      <td>109.0</td>\n",
       "      <td>33.667230</td>\n",
       "      <td>2.20217e+12</td>\n",
       "      <td>2.23463e+12</td>\n",
       "      <td>2.21115e+12</td>\n",
       "      <td>2.08994e+12</td>\n",
       "      <td>2.12518e+12</td>\n",
       "      <td>2.13744e+12</td>\n",
       "      <td>2.07718e+12</td>\n",
       "      <td>2.04087e+12</td>\n",
       "      <td>2.03387e+12</td>\n",
       "      <td>2.04932e+12</td>\n",
       "    </tr>\n",
       "    <tr>\n",
       "      <th>Spain</th>\n",
       "      <td>12</td>\n",
       "      <td>9428</td>\n",
       "      <td>9330</td>\n",
       "      <td>123336</td>\n",
       "      <td>23964</td>\n",
       "      <td>13.08</td>\n",
       "      <td>115</td>\n",
       "      <td>4.923000e+09</td>\n",
       "      <td>106.0</td>\n",
       "      <td>37.968590</td>\n",
       "      <td>1.41482e+12</td>\n",
       "      <td>1.46815e+12</td>\n",
       "      <td>1.48453e+12</td>\n",
       "      <td>1.43148e+12</td>\n",
       "      <td>1.43167e+12</td>\n",
       "      <td>1.41735e+12</td>\n",
       "      <td>1.38022e+12</td>\n",
       "      <td>1.35714e+12</td>\n",
       "      <td>1.37561e+12</td>\n",
       "      <td>1.41982e+12</td>\n",
       "    </tr>\n",
       "    <tr>\n",
       "      <th>Iran</th>\n",
       "      <td>13</td>\n",
       "      <td>8896</td>\n",
       "      <td>8819</td>\n",
       "      <td>57470</td>\n",
       "      <td>19125</td>\n",
       "      <td>6.46</td>\n",
       "      <td>72</td>\n",
       "      <td>9.172000e+09</td>\n",
       "      <td>119.0</td>\n",
       "      <td>5.707721</td>\n",
       "      <td>3.89552e+11</td>\n",
       "      <td>4.25065e+11</td>\n",
       "      <td>4.28991e+11</td>\n",
       "      <td>4.38921e+11</td>\n",
       "      <td>4.6779e+11</td>\n",
       "      <td>4.85331e+11</td>\n",
       "      <td>4.53257e+11</td>\n",
       "      <td>4.44593e+11</td>\n",
       "      <td>4.63903e+11</td>\n",
       "      <td>NaN</td>\n",
       "    </tr>\n",
       "    <tr>\n",
       "      <th>Australia</th>\n",
       "      <td>14</td>\n",
       "      <td>8831</td>\n",
       "      <td>8725</td>\n",
       "      <td>90765</td>\n",
       "      <td>15606</td>\n",
       "      <td>10.28</td>\n",
       "      <td>107</td>\n",
       "      <td>5.386000e+09</td>\n",
       "      <td>231.0</td>\n",
       "      <td>11.810810</td>\n",
       "      <td>1.02194e+12</td>\n",
       "      <td>1.06034e+12</td>\n",
       "      <td>1.09964e+12</td>\n",
       "      <td>1.11965e+12</td>\n",
       "      <td>1.14225e+12</td>\n",
       "      <td>1.16943e+12</td>\n",
       "      <td>1.21191e+12</td>\n",
       "      <td>1.24148e+12</td>\n",
       "      <td>1.27252e+12</td>\n",
       "      <td>1.30125e+12</td>\n",
       "    </tr>\n",
       "    <tr>\n",
       "      <th>Brazil</th>\n",
       "      <td>15</td>\n",
       "      <td>8668</td>\n",
       "      <td>8596</td>\n",
       "      <td>60702</td>\n",
       "      <td>14396</td>\n",
       "      <td>7.00</td>\n",
       "      <td>86</td>\n",
       "      <td>1.214900e+10</td>\n",
       "      <td>59.0</td>\n",
       "      <td>69.648030</td>\n",
       "      <td>1.84508e+12</td>\n",
       "      <td>1.95712e+12</td>\n",
       "      <td>2.05681e+12</td>\n",
       "      <td>2.05421e+12</td>\n",
       "      <td>2.20887e+12</td>\n",
       "      <td>2.29524e+12</td>\n",
       "      <td>2.33921e+12</td>\n",
       "      <td>2.40974e+12</td>\n",
       "      <td>2.41223e+12</td>\n",
       "      <td>2.31942e+12</td>\n",
       "    </tr>\n",
       "  </tbody>\n",
       "</table>\n",
       "</div>"
      ],
      "text/plain": [
       "                    Rank  Documents  Citable documents  Citations  \\\n",
       "Country                                                             \n",
       "China                  1     127050             126767     597237   \n",
       "United States          2      96661              94747     792274   \n",
       "Japan                  3      30504              30287     223024   \n",
       "United Kingdom         4      20944              20357     206091   \n",
       "Russian Federation     5      18534              18301      34266   \n",
       "Canada                 6      17899              17620     215003   \n",
       "Germany                7      17027              16831     140566   \n",
       "India                  8      15005              14841     128763   \n",
       "France                 9      13153              12973     130632   \n",
       "South Korea           10      11983              11923     114675   \n",
       "Italy                 11      10964              10794     111850   \n",
       "Spain                 12       9428               9330     123336   \n",
       "Iran                  13       8896               8819      57470   \n",
       "Australia             14       8831               8725      90765   \n",
       "Brazil                15       8668               8596      60702   \n",
       "\n",
       "                    Self-citations  Citations per document  H index  \\\n",
       "Country                                                               \n",
       "China                       411683                    4.70      138   \n",
       "United States               265436                    8.20      230   \n",
       "Japan                        61554                    7.31      134   \n",
       "United Kingdom               37874                    9.84      139   \n",
       "Russian Federation           12422                    1.85       57   \n",
       "Canada                       40930                   12.01      149   \n",
       "Germany                      27426                    8.26      126   \n",
       "India                        37209                    8.58      115   \n",
       "France                       28601                    9.93      114   \n",
       "South Korea                  22595                    9.57      104   \n",
       "Italy                        26661                   10.20      106   \n",
       "Spain                        23964                   13.08      115   \n",
       "Iran                         19125                    6.46       72   \n",
       "Australia                    15606                   10.28      107   \n",
       "Brazil                       14396                    7.00       86   \n",
       "\n",
       "                    Energy Supply  Energy Supply per Capita  % Renewable  \\\n",
       "Country                                                                    \n",
       "China                1.271910e+11                      93.0    19.754910   \n",
       "United States        9.083800e+10                     286.0    11.570980   \n",
       "Japan                1.898400e+10                     149.0    10.232820   \n",
       "United Kingdom       7.920000e+09                     124.0    10.600470   \n",
       "Russian Federation   3.070900e+10                     214.0    17.288680   \n",
       "Canada               1.043100e+10                     296.0    61.945430   \n",
       "Germany              1.326100e+10                     165.0    17.901530   \n",
       "India                3.319500e+10                      26.0    14.969080   \n",
       "France               1.059700e+10                     166.0    17.020280   \n",
       "South Korea          1.100700e+10                     221.0     2.279353   \n",
       "Italy                6.530000e+09                     109.0    33.667230   \n",
       "Spain                4.923000e+09                     106.0    37.968590   \n",
       "Iran                 9.172000e+09                     119.0     5.707721   \n",
       "Australia            5.386000e+09                     231.0    11.810810   \n",
       "Brazil               1.214900e+10                      59.0    69.648030   \n",
       "\n",
       "                           2006         2007         2008         2009  \\\n",
       "Country                                                                  \n",
       "China               3.99233e+12  4.55904e+12  4.99778e+12  5.45925e+12   \n",
       "United States       1.47923e+13  1.50554e+13  1.50115e+13  1.45948e+13   \n",
       "Japan               5.49654e+12  5.61704e+12  5.55853e+12  5.25131e+12   \n",
       "United Kingdom      2.41963e+12   2.4822e+12  2.47061e+12  2.36705e+12   \n",
       "Russian Federation  1.38579e+12  1.50407e+12    1.583e+12   1.4592e+12   \n",
       "Canada              1.56447e+12  1.59674e+12  1.61271e+12  1.56514e+12   \n",
       "Germany             3.33289e+12  3.44156e+12  3.47881e+12  3.28334e+12   \n",
       "India               1.26589e+12  1.37487e+12  1.42836e+12  1.54948e+12   \n",
       "France              2.60784e+12  2.66942e+12  2.67464e+12  2.59597e+12   \n",
       "South Korea          9.4102e+11  9.92432e+11  1.02051e+12  1.02773e+12   \n",
       "Italy               2.20217e+12  2.23463e+12  2.21115e+12  2.08994e+12   \n",
       "Spain               1.41482e+12  1.46815e+12  1.48453e+12  1.43148e+12   \n",
       "Iran                3.89552e+11  4.25065e+11  4.28991e+11  4.38921e+11   \n",
       "Australia           1.02194e+12  1.06034e+12  1.09964e+12  1.11965e+12   \n",
       "Brazil              1.84508e+12  1.95712e+12  2.05681e+12  2.05421e+12   \n",
       "\n",
       "                           2010         2011         2012         2013  \\\n",
       "Country                                                                  \n",
       "China               6.03966e+12  6.61249e+12  7.12498e+12  7.67245e+12   \n",
       "United States       1.49644e+13   1.5204e+13  1.55422e+13  1.57737e+13   \n",
       "Japan               5.49872e+12  5.47374e+12   5.5691e+12  5.64466e+12   \n",
       "United Kingdom       2.4035e+12  2.45091e+12  2.47981e+12  2.53337e+12   \n",
       "Russian Federation  1.52492e+12  1.58994e+12  1.64588e+12  1.66693e+12   \n",
       "Canada              1.61341e+12  1.66409e+12  1.69313e+12  1.73069e+12   \n",
       "Germany              3.4173e+12  3.54237e+12  3.55672e+12  3.56732e+12   \n",
       "India               1.70846e+12  1.82187e+12  1.92424e+12  2.05198e+12   \n",
       "France              2.64699e+12  2.70203e+12  2.70697e+12  2.72257e+12   \n",
       "South Korea          1.0945e+12   1.1348e+12  1.16081e+12  1.19443e+12   \n",
       "Italy               2.12518e+12  2.13744e+12  2.07718e+12  2.04087e+12   \n",
       "Spain               1.43167e+12  1.41735e+12  1.38022e+12  1.35714e+12   \n",
       "Iran                 4.6779e+11  4.85331e+11  4.53257e+11  4.44593e+11   \n",
       "Australia           1.14225e+12  1.16943e+12  1.21191e+12  1.24148e+12   \n",
       "Brazil              2.20887e+12  2.29524e+12  2.33921e+12  2.40974e+12   \n",
       "\n",
       "                           2014         2015  \n",
       "Country                                       \n",
       "China               8.23012e+12    8.798e+12  \n",
       "United States       1.61566e+13  1.65486e+13  \n",
       "Japan               5.64288e+12  5.66956e+12  \n",
       "United Kingdom      2.60564e+12  2.66633e+12  \n",
       "Russian Federation  1.67871e+12  1.61615e+12  \n",
       "Canada              1.77349e+12  1.79261e+12  \n",
       "Germany             3.62439e+12  3.68556e+12  \n",
       "India               2.20062e+12  2.36721e+12  \n",
       "France              2.72963e+12  2.76119e+12  \n",
       "South Korea         1.23434e+12  1.26658e+12  \n",
       "Italy               2.03387e+12  2.04932e+12  \n",
       "Spain               1.37561e+12  1.41982e+12  \n",
       "Iran                4.63903e+11          NaN  \n",
       "Australia           1.27252e+12  1.30125e+12  \n",
       "Brazil              2.41223e+12  2.31942e+12  "
      ]
     },
     "execution_count": 4,
     "metadata": {},
     "output_type": "execute_result"
    }
   ],
   "source": [
    "import pandas as pd\n",
    "import numpy as np\n",
    "def answer_one():\n",
    "    #Energy DataFrame\n",
    "    energy = pd.read_excel('Energy Indicators.xls', sheetname='Energy',header=None,skiprows=18) # read excel_file\n",
    "    energy.drop(energy.columns[[0,2]],axis=1,inplace=True) # drop unimportant columns\n",
    "    energy = energy.drop(energy.index[227:]) # drop footer index \n",
    "    energy.columns = ['Country', 'Energy Supply', 'Energy Supply per Capita', '% Renewable'] # change column names\n",
    "    energy = energy.replace('...',np.NaN) # replace \"...\" with 'NaN' \n",
    "    energy['Country'] = energy['Country'].replace({\"Republic of Korea\": \"South Korea\",\n",
    "                                                   \"United States of America\": \"United States\",\n",
    "                                                   \"United Kingdom of Great Britain and Northern Ireland\": \"United Kingdom\",\n",
    "                                                   \"China, Hong Kong Special Administrative Region\": \"Hong Kong\",\n",
    "                                                   'Bolivia (Plurinational State of)': 'Bolivia', \n",
    "                                                   'Falkland Islands (Malvinas)': 'Falkland Islands',\n",
    "                                                   'Iran (Islamic Republic of)': 'Iran',\n",
    "                                                   'Micronesia (Federated States of)': 'Micronesia',\n",
    "                                                   'Sint Maarten (Dutch part)': 'Sint Maarten',\n",
    "                                                   'Venezuela (Bolivarian Republic of)': 'Venezuela',}) # rename\n",
    "    energy['Energy Supply'] = energy['Energy Supply']*1000000 # convert petajoule to gigajoules\n",
    "#     energy['Energy Supply per Capita'] = energy['Energy Supply per Capita']*1000000\n",
    "    \n",
    "    #GDP DataFrame \n",
    "    GDP = pd.read_csv('world_bank.csv', skiprows=4)\n",
    "    GDP = GDP.rename(columns={'Country Name': 'Country'}) # rename column \n",
    "    GDP['Country'] = GDP['Country'].replace({\"Korea, Rep.\": \"South Korea\", \n",
    "    \"Iran, Islamic Rep.\": \"Iran\",\n",
    "    \"Hong Kong SAR, China\": \"Hong Kong\"}) #rename countries \n",
    "    GDP = GDP.T # transpose \n",
    "    rows = list(range(4,50))\n",
    "    GDP = GDP.drop(GDP.index[rows]) #drop unimportant data \n",
    "    GDP = GDP.T # transpose back\n",
    " \n",
    "    #ScimEn DataFrame\n",
    "    ScimEn = pd.read_excel('scimagojr-3.xlsx') # read excel_file\n",
    "#     ScimEn = ScimEn[0:15] # choose rank 1-15\n",
    "\n",
    "    #Intersection of merge DataFrame\n",
    "    df = energy.merge(GDP,on='Country',how='inner').merge(ScimEn,on='Country',how='inner') #intersect\n",
    "    df2 = df.set_index('Country') # set master index \n",
    "    final_df = df2.drop(['Country Code','Indicator Name', 'Indicator Code'], axis=1)\n",
    "    correct_column_order = ['Rank', 'Documents', 'Citable documents', 'Citations', \n",
    "                            'Self-citations', 'Citations per document', \n",
    "                            'H index', 'Energy Supply', 'Energy Supply per Capita', \n",
    "                            '% Renewable', '2006', '2007', '2008', '2009', '2010', \n",
    "                            '2011', '2012', '2013', '2014', '2015'] # reorder columns \n",
    "    dff = final_df[correct_column_order] #final DataFrame \n",
    "    new_dff = dff.sort_values(by='Rank')\n",
    "    return new_dff[0:15]\n",
    "\n",
    "answer_one()"
   ]
  },
  {
   "cell_type": "markdown",
   "metadata": {
    "collapsed": false
   },
   "source": [
    "### Question 2 (6.6%)\n",
    "The previous question joined three datasets then reduced this to just the top 15 entries. When you joined the datasets, but before you reduced this to the top 15 items, how many entries did you lose?\n",
    "\n",
    "*This function should return a single number.*"
   ]
  },
  {
   "cell_type": "code",
   "execution_count": 108,
   "metadata": {
    "collapsed": false
   },
   "outputs": [
    {
     "data": {
      "text/html": [
       "<svg width=\"800\" height=\"300\">\n",
       "  <circle cx=\"150\" cy=\"180\" r=\"80\" fill-opacity=\"0.2\" stroke=\"black\" stroke-width=\"2\" fill=\"blue\" />\n",
       "  <circle cx=\"200\" cy=\"100\" r=\"80\" fill-opacity=\"0.2\" stroke=\"black\" stroke-width=\"2\" fill=\"red\" />\n",
       "  <circle cx=\"100\" cy=\"100\" r=\"80\" fill-opacity=\"0.2\" stroke=\"black\" stroke-width=\"2\" fill=\"green\" />\n",
       "  <line x1=\"150\" y1=\"125\" x2=\"300\" y2=\"150\" stroke=\"black\" stroke-width=\"2\" fill=\"black\" stroke-dasharray=\"5,3\"/>\n",
       "  <text  x=\"300\" y=\"165\" font-family=\"Verdana\" font-size=\"35\">Everything but this!</text>\n",
       "</svg>"
      ],
      "text/plain": [
       "<IPython.core.display.HTML object>"
      ]
     },
     "metadata": {},
     "output_type": "display_data"
    }
   ],
   "source": [
    "%%HTML\n",
    "<svg width=\"800\" height=\"300\">\n",
    "  <circle cx=\"150\" cy=\"180\" r=\"80\" fill-opacity=\"0.2\" stroke=\"black\" stroke-width=\"2\" fill=\"blue\" />\n",
    "  <circle cx=\"200\" cy=\"100\" r=\"80\" fill-opacity=\"0.2\" stroke=\"black\" stroke-width=\"2\" fill=\"red\" />\n",
    "  <circle cx=\"100\" cy=\"100\" r=\"80\" fill-opacity=\"0.2\" stroke=\"black\" stroke-width=\"2\" fill=\"green\" />\n",
    "  <line x1=\"150\" y1=\"125\" x2=\"300\" y2=\"150\" stroke=\"black\" stroke-width=\"2\" fill=\"black\" stroke-dasharray=\"5,3\"/>\n",
    "  <text  x=\"300\" y=\"165\" font-family=\"Verdana\" font-size=\"35\">Everything but this!</text>\n",
    "</svg>"
   ]
  },
  {
   "cell_type": "code",
   "execution_count": 109,
   "metadata": {
    "collapsed": false
   },
   "outputs": [
    {
     "data": {
      "text/plain": [
       "156"
      ]
     },
     "execution_count": 109,
     "metadata": {},
     "output_type": "execute_result"
    }
   ],
   "source": [
    "#Energy DataFrame\n",
    "energy = pd.read_excel('Energy Indicators.xls', sheetname='Energy',header=None,skiprows=18) # read excel_file\n",
    "energy.drop(energy.columns[[0,2]],axis=1,inplace=True) # drop unimportant columns\n",
    "energy = energy.drop(energy.index[227:]) # drop footer index \n",
    "energy.columns = ['Country', 'Energy Supply', 'Energy Supply per Capita', '% Renewable'] # change column names\n",
    "energy = energy.replace('...',np.NaN) # replace \"...\" with 'NaN' \n",
    "energy['Country'] = energy['Country'].replace({\"Republic of Korea\": \"South Korea\",\n",
    "                                                   \"United States of America\": \"United States\",\n",
    "                                                   \"United Kingdom of Great Britain and Northern Ireland\": \"United Kingdom\",\n",
    "                                                   \"China, Hong Kong Special Administrative Region\": \"Hong Kong\",\n",
    "                                                   'Bolivia (Plurinational State of)': 'Bolivia', \n",
    "                                                   'Falkland Islands (Malvinas)': 'Falkland Islands',\n",
    "                                                   'Iran (Islamic Republic of)': 'Iran',\n",
    "                                                   'Micronesia (Federated States of)': 'Micronesia',\n",
    "                                                   'Sint Maarten (Dutch part)': 'Sint Maarten',\n",
    "                                                   'Venezuela (Bolivarian Republic of)': 'Venezuela',}) # rename\n",
    "energy['Energy Supply'] = energy['Energy Supply']*1000000 # convert petajoule to gigajoules\n",
    "#     energy['Energy Supply per Capita'] = energy['Energy Supply per Capita']*1000000\n",
    "    \n",
    "#GDP DataFrame \n",
    "GDP = pd.read_csv('world_bank.csv', skiprows=4)\n",
    "GDP = GDP.rename(columns={'Country Name': 'Country'}) # rename column \n",
    "GDP['Country'] = GDP['Country'].replace({\"Korea, Rep.\": \"South Korea\", \n",
    "\"Iran, Islamic Rep.\": \"Iran\",\n",
    "\"Hong Kong SAR, China\": \"Hong Kong\"}) #rename countries \n",
    "GDP = GDP.T # transpose \n",
    "rows = list(range(4,50))\n",
    "GDP = GDP.drop(GDP.index[rows]) #drop unimportant data \n",
    "GDP = GDP.T # transpose back\n",
    " \n",
    "#ScimEn DataFrame\n",
    "ScimEn = pd.read_excel('scimagojr-3.xlsx') # read excel_file\n",
    "#ScimEn = ScimEn[0:15] # choose rank 1-15\n",
    "\n",
    "#Intersection of merge DataFrame\n",
    "df = energy.merge(GDP,on='Country',how='inner').merge(ScimEn,on='Country',how='inner') #intersect\n",
    "df2 = df.set_index('Country') # set master index \n",
    "final_df = df2.drop(['Country Code','Indicator Name', 'Indicator Code'], axis=1)\n",
    "correct_column_order = ['Rank', 'Documents', 'Citable documents', 'Citations', \n",
    "                            'Self-citations', 'Citations per document', \n",
    "                            'H index', 'Energy Supply', 'Energy Supply per Capita', \n",
    "                            '% Renewable', '2006', '2007', '2008', '2009', '2010', \n",
    "                            '2011', '2012', '2013', '2014', '2015'] # reorder columns \n",
    "dff = final_df[correct_column_order] #final DataFrame \n",
    "new_dff = dff.sort_values(by='Rank')\n",
    "\n",
    "\n",
    "def answer_two():\n",
    "    all_inner_joined = ScimEn.merge(energy).merge(GDP, left_on='Country', right_on='Country')\n",
    "    all_outer_joined = ScimEn.merge(energy, how='outer').merge(GDP, how='outer', left_on='Country', right_on='Country')\n",
    "    return len(all_outer_joined)-len(all_inner_joined)\n",
    "answer_two()"
   ]
  },
  {
   "cell_type": "markdown",
   "metadata": {
    "collapsed": false
   },
   "source": [
    "### Question 3 (6.6%)\n",
    "What are the top 15 countries for average GDP over the last 10 years?\n",
    "\n",
    "*This function should return a Series named `avgGDP` with 15 countries and their average GDP sorted in descending order.*"
   ]
  },
  {
   "cell_type": "code",
   "execution_count": 110,
   "metadata": {
    "collapsed": false
   },
   "outputs": [
    {
     "name": "stderr",
     "output_type": "stream",
     "text": [
      "/usr/local/lib/python2.7/site-packages/ipykernel/__main__.py:4: FutureWarning: sort is deprecated, use sort_values(inplace=True) for INPLACE sorting\n"
     ]
    },
    {
     "data": {
      "text/plain": [
       "Country\n",
       "United States         1.536434e+13\n",
       "China                 6.348609e+12\n",
       "Japan                 5.542208e+12\n",
       "Germany               3.493025e+12\n",
       "France                2.681725e+12\n",
       "United Kingdom        2.487907e+12\n",
       "Brazil                2.189794e+12\n",
       "Italy                 2.120175e+12\n",
       "India                 1.769297e+12\n",
       "Canada                1.660647e+12\n",
       "Russian Federation    1.565459e+12\n",
       "Spain                 1.418078e+12\n",
       "Australia             1.164043e+12\n",
       "South Korea           1.106715e+12\n",
       "Iran                  4.441558e+11\n",
       "Name: avgGDP, dtype: float64"
      ]
     },
     "execution_count": 110,
     "metadata": {},
     "output_type": "execute_result"
    }
   ],
   "source": [
    "def answer_three():\n",
    "    Top15 = answer_one()\n",
    "    avgGDP = Top15[['2006','2007','2008','2009','2010','2011','2012','2013','2014','2015']].mean(axis=1)\n",
    "    avgGDP.sort(axis=0,ascending=False,inplace=True)\n",
    "    return avgGDP.rename('avgGDP')\n",
    "answer_three()"
   ]
  },
  {
   "cell_type": "markdown",
   "metadata": {
    "collapsed": false
   },
   "source": [
    "### Question 4 (6.6%)\n",
    "By how much had the GDP changed over the 10 year span for the country with the 6th largest average GDP?\n",
    "\n",
    "*This function should return a single number.*"
   ]
  },
  {
   "cell_type": "code",
   "execution_count": 111,
   "metadata": {
    "collapsed": false
   },
   "outputs": [
    {
     "name": "stderr",
     "output_type": "stream",
     "text": [
      "/usr/local/lib/python2.7/site-packages/ipykernel/__main__.py:4: FutureWarning: sort is deprecated, use sort_values(inplace=True) for INPLACE sorting\n"
     ]
    },
    {
     "data": {
      "text/plain": [
       "246702696075.3999"
      ]
     },
     "execution_count": 111,
     "metadata": {},
     "output_type": "execute_result"
    }
   ],
   "source": [
    "def answer_four():\n",
    "    Top15 = answer_one()\n",
    "    Top15['avgGDP'] = answer_three()\n",
    "    top_six_gdp = pd.Series(Top15['avgGDP'].nlargest(6))\n",
    "    sixth_largest_gdp = top_six_gdp.iloc[5]\n",
    "    largest_avg =  (Top15.where(Top15['avgGDP'] == sixth_largest_gdp).dropna())\n",
    "    return ((largest_avg['2015'] - largest_avg['2006']).iloc[0])\n",
    "answer_four()"
   ]
  },
  {
   "cell_type": "markdown",
   "metadata": {
    "collapsed": false
   },
   "source": [
    "### Question 5 (6.6%)\n",
    "What is the mean energy supply per capita?\n",
    "\n",
    "*This function should return a single number.*"
   ]
  },
  {
   "cell_type": "code",
   "execution_count": 112,
   "metadata": {
    "collapsed": false
   },
   "outputs": [
    {
     "data": {
      "text/plain": [
       "157.59999999999999"
      ]
     },
     "execution_count": 112,
     "metadata": {},
     "output_type": "execute_result"
    }
   ],
   "source": [
    "def answer_five(): \n",
    "    Top15 = answer_one()\n",
    "    return Top15['Energy Supply per Capita'].mean()\n",
    "answer_five()"
   ]
  },
  {
   "cell_type": "markdown",
   "metadata": {
    "collapsed": false
   },
   "source": [
    "### Question 6 (6.6%)\n",
    "What country has the maximum % Renewable and what is the percentage?\n",
    "\n",
    "*This function should return a tuple with the name of the country and the percentage.*"
   ]
  },
  {
   "cell_type": "code",
   "execution_count": 113,
   "metadata": {
    "collapsed": false
   },
   "outputs": [
    {
     "data": {
      "text/plain": [
       "(u'Brazil', 69.648030000000006)"
      ]
     },
     "execution_count": 113,
     "metadata": {},
     "output_type": "execute_result"
    }
   ],
   "source": [
    "def answer_six():\n",
    "    Top15 = answer_one()\n",
    "    max = Top15['% Renewable'].max()\n",
    "    max_renewable_country = Top15.where(Top15['% Renewable'] == max).dropna().iloc[0]\n",
    "    return(max_renewable_country.name, max_renewable_country['% Renewable'])\n",
    "answer_six()"
   ]
  },
  {
   "cell_type": "markdown",
   "metadata": {
    "collapsed": false
   },
   "source": [
    "### Question 7 (6.6%)\n",
    "Create a new column that is the ratio of Self-Citations to Total Citations. \n",
    "What is the maximum value for this new column, and what country has the highest ratio?\n",
    "\n",
    "*This function should return a tuple with the name of the country and the ratio.*"
   ]
  },
  {
   "cell_type": "code",
   "execution_count": 114,
   "metadata": {
    "collapsed": false
   },
   "outputs": [
    {
     "data": {
      "text/plain": [
       "(u'China', 0.68931261793894216)"
      ]
     },
     "execution_count": 114,
     "metadata": {},
     "output_type": "execute_result"
    }
   ],
   "source": [
    "def answer_seven():\n",
    "    Top15 = answer_one()\n",
    "    Top15['ratio'] = Top15['Self-citations'] / Top15['Citations']\n",
    "    max = Top15['ratio'].max()\n",
    "    highest_ratio = Top15.where(Top15['ratio'] == max).dropna().iloc[0]\n",
    "    return(highest_ratio.name, highest_ratio['ratio'])\n",
    "answer_seven()\n",
    "\n"
   ]
  },
  {
   "cell_type": "markdown",
   "metadata": {
    "collapsed": false
   },
   "source": [
    "### Question 8 (6.6%)\n",
    "\n",
    "Create a column that estimates the population using Energy Supply and Energy Supply per capita. \n",
    "What is the third most populous country according to this estimate?\n",
    "\n",
    "*This function should return a single string value.*"
   ]
  },
  {
   "cell_type": "code",
   "execution_count": 115,
   "metadata": {
    "collapsed": false
   },
   "outputs": [
    {
     "data": {
      "text/plain": [
       "'United States'"
      ]
     },
     "execution_count": 115,
     "metadata": {},
     "output_type": "execute_result"
    }
   ],
   "source": [
    "def answer_eight():\n",
    "    Top15 = answer_one()\n",
    "    #N = (ES * len(Top15))/ESPC  Population size.\n",
    "    Top15['PopEst'] = (Top15['Energy Supply']) / Top15['Energy Supply per Capita']\n",
    "    third_most = Top15['PopEst'].nlargest(3)\n",
    "    return third_most.keys()[2]\n",
    "answer_eight()"
   ]
  },
  {
   "cell_type": "markdown",
   "metadata": {
    "collapsed": false
   },
   "source": [
    "### Question 9 (6.6%)\n",
    "Create a column that estimates the number of citable documents per person. \n",
    "What is the correlation between the number of citable documents per capita and the energy supply per capita?\n",
    "\n",
    "*This function should return a single number.*\n",
    "\n",
    "*(Optional: Use the built-in function `plot9()` to visualize the relationship between Energy Supply per Capita vs. Citable docs per Capita).*"
   ]
  },
  {
   "cell_type": "code",
   "execution_count": 116,
   "metadata": {
    "collapsed": false,
    "scrolled": true
   },
   "outputs": [
    {
     "data": {
      "text/plain": [
       "0.79400104354429424"
      ]
     },
     "execution_count": 116,
     "metadata": {},
     "output_type": "execute_result"
    }
   ],
   "source": [
    "def answer_nine():\n",
    "    Top15 = answer_one()\n",
    "    Top15['PopEst'] = Top15['Energy Supply'] / Top15['Energy Supply per Capita']\n",
    "    Top15['Citable docs per Capita'] = Top15['Citable documents'] / Top15['PopEst']\n",
    "    corr_coeff = Top15['Citable docs per Capita'].corr(Top15['Energy Supply per Capita'])\n",
    "    # .794 is a fairly strong positive relationshop between citable documents and energy supply. \n",
    "    return corr_coeff\n",
    "answer_nine()\n"
   ]
  },
  {
   "cell_type": "markdown",
   "metadata": {
    "collapsed": false
   },
   "source": [
    "### Question 10 (6.6%)\n",
    "Create a new column with a 1 if the country's % Renewable value is at or above the median for all countries in the top 15.\n",
    "\n",
    "*This function should return a series named `HighRenew` whose index is the country name sorted in ascending order of rank.*"
   ]
  },
  {
   "cell_type": "code",
   "execution_count": 117,
   "metadata": {
    "collapsed": false
   },
   "outputs": [
    {
     "data": {
      "text/plain": [
       "Country\n",
       "China                 1\n",
       "United States         0\n",
       "Japan                 0\n",
       "United Kingdom        0\n",
       "Russian Federation    1\n",
       "Canada                1\n",
       "Germany               1\n",
       "India                 0\n",
       "France                1\n",
       "South Korea           0\n",
       "Italy                 1\n",
       "Spain                 1\n",
       "Iran                  0\n",
       "Australia             0\n",
       "Brazil                1\n",
       "Name: HighRenew, dtype: int64"
      ]
     },
     "execution_count": 117,
     "metadata": {},
     "output_type": "execute_result"
    }
   ],
   "source": [
    "def answer_ten():\n",
    "    Top15 = answer_one()\n",
    "    Top15['HighRenew'] = np.where(Top15['% Renewable'] >= Top15['% Renewable'].median(), int(1), 0).astype(int)\n",
    "    return Top15['HighRenew']\n",
    "answer_ten()"
   ]
  },
  {
   "cell_type": "markdown",
   "metadata": {
    "collapsed": true
   },
   "source": [
    "### Question 11 (6.6%)\n",
    "Use the following dictionary to group the Countries by Continent, then create a dateframe that displays the sample size (the number of countries in each continent bin), and the sum, mean, and std deviation for the estimated population of each country.\n",
    "\n",
    "```python\n",
    "ContinentDict  = {'China':'Asia', \n",
    "                  'United States':'North America', \n",
    "                  'Japan':'Asia', \n",
    "                  'United Kingdom':'Europe', \n",
    "                  'Russian Federation':'Europe', \n",
    "                  'Canada':'North America', \n",
    "                  'Germany':'Europe', \n",
    "                  'India':'Asia',\n",
    "                  'France':'Europe', \n",
    "                  'South Korea':'Asia', \n",
    "                  'Italy':'Europe', \n",
    "                  'Spain':'Europe', \n",
    "                  'Iran':'Asia',\n",
    "                  'Australia':'Australia', \n",
    "                  'Brazil':'South America'}\n",
    "```\n",
    "\n",
    "*This function should return a DataFrame with index named Continent `['Asia', 'Australia', 'Europe', 'North America', 'South America']` and columns `['size', 'sum', 'mean', 'std']`*"
   ]
  },
  {
   "cell_type": "code",
   "execution_count": 118,
   "metadata": {
    "collapsed": false
   },
   "outputs": [
    {
     "data": {
      "text/html": [
       "<div>\n",
       "<table border=\"1\" class=\"dataframe\">\n",
       "  <thead>\n",
       "    <tr style=\"text-align: right;\">\n",
       "      <th></th>\n",
       "      <th>size</th>\n",
       "      <th>sum</th>\n",
       "      <th>mean</th>\n",
       "      <th>std</th>\n",
       "    </tr>\n",
       "    <tr>\n",
       "      <th>Continent</th>\n",
       "      <th></th>\n",
       "      <th></th>\n",
       "      <th></th>\n",
       "      <th></th>\n",
       "    </tr>\n",
       "  </thead>\n",
       "  <tbody>\n",
       "    <tr>\n",
       "      <th>Asia</th>\n",
       "      <td>5.0</td>\n",
       "      <td>2.898666e+09</td>\n",
       "      <td>5.797333e+08</td>\n",
       "      <td>6.790979e+08</td>\n",
       "    </tr>\n",
       "    <tr>\n",
       "      <th>Australia</th>\n",
       "      <td>1.0</td>\n",
       "      <td>2.331602e+07</td>\n",
       "      <td>2.331602e+07</td>\n",
       "      <td>NaN</td>\n",
       "    </tr>\n",
       "    <tr>\n",
       "      <th>Europe</th>\n",
       "      <td>6.0</td>\n",
       "      <td>4.579297e+08</td>\n",
       "      <td>7.632161e+07</td>\n",
       "      <td>3.464767e+07</td>\n",
       "    </tr>\n",
       "    <tr>\n",
       "      <th>North America</th>\n",
       "      <td>2.0</td>\n",
       "      <td>3.528552e+08</td>\n",
       "      <td>1.764276e+08</td>\n",
       "      <td>1.996696e+08</td>\n",
       "    </tr>\n",
       "    <tr>\n",
       "      <th>South America</th>\n",
       "      <td>1.0</td>\n",
       "      <td>2.059153e+08</td>\n",
       "      <td>2.059153e+08</td>\n",
       "      <td>NaN</td>\n",
       "    </tr>\n",
       "  </tbody>\n",
       "</table>\n",
       "</div>"
      ],
      "text/plain": [
       "               size           sum          mean           std\n",
       "Continent                                                    \n",
       "Asia            5.0  2.898666e+09  5.797333e+08  6.790979e+08\n",
       "Australia       1.0  2.331602e+07  2.331602e+07           NaN\n",
       "Europe          6.0  4.579297e+08  7.632161e+07  3.464767e+07\n",
       "North America   2.0  3.528552e+08  1.764276e+08  1.996696e+08\n",
       "South America   1.0  2.059153e+08  2.059153e+08           NaN"
      ]
     },
     "execution_count": 118,
     "metadata": {},
     "output_type": "execute_result"
    }
   ],
   "source": [
    "def answer_eleven():\n",
    "    Top15 = answer_one()\n",
    "    Top15['PopEst'] = (Top15['Energy Supply']) / Top15['Energy Supply per Capita']\n",
    "    ContinentDict  = {'China':'Asia', \n",
    "                  'United States':'North America', \n",
    "                  'Japan':'Asia', \n",
    "                  'United Kingdom':'Europe', \n",
    "                  'Russian Federation':'Europe', \n",
    "                  'Canada':'North America', \n",
    "                  'Germany':'Europe', \n",
    "                  'India':'Asia',\n",
    "                  'France':'Europe', \n",
    "                  'South Korea':'Asia', \n",
    "                  'Italy':'Europe', \n",
    "                  'Spain':'Europe', \n",
    "                  'Iran':'Asia',\n",
    "                  'Australia':'Australia', \n",
    "                  'Brazil':'South America'}\n",
    "    df1 = Top15.groupby(ContinentDict).agg([np.size, np.sum, np.mean, np.std])\n",
    "    df2 = df1.drop(['Rank','Citable documents', 'Documents','Citations', 'Self-citations', 'Citations per document', 'H index', 'Energy Supply', 'Energy Supply per Capita', '% Renewable'],axis=1)\n",
    "    df2.index.name = 'Continent'\n",
    "    return df2['PopEst']\n",
    "answer_eleven()\n",
    " "
   ]
  },
  {
   "cell_type": "markdown",
   "metadata": {
    "collapsed": false
   },
   "source": [
    "### Question 12 (6.6%)\n",
    "Cut % Renewable into 5 bins. Group Top15 by the Continent, as well as these new % Renewable bins. How many countries are in each of these groups?\n",
    "\n",
    "*This function should return a Series with a MultiIndex of `Continent`, then the bins for `% Renewable`. Do not include groups with no countries.*"
   ]
  },
  {
   "cell_type": "code",
   "execution_count": 1,
   "metadata": {
    "collapsed": false
   },
   "outputs": [],
   "source": [
    "def answer_twelve():\n",
    "    Top15 = answer_one()\n",
    "    return \"ANSWER\""
   ]
  },
  {
   "cell_type": "markdown",
   "metadata": {
    "collapsed": false
   },
   "source": [
    "### Question 13 (6.6%)\n",
    "Convert the Population Estimate series to a string with thousands separator (using commas)\n",
    "\n",
    "e.g. 12345678.90 -> 12,345,678.90\n",
    "\n",
    "*This function should return a Series `PopEst` whose index is the country name and whose values are the population estimate string.*"
   ]
  },
  {
   "cell_type": "code",
   "execution_count": 5,
   "metadata": {
    "collapsed": false
   },
   "outputs": [
    {
     "name": "stderr",
     "output_type": "stream",
     "text": [
      "/usr/local/lib/python2.7/site-packages/pandas/core/indexing.py:132: SettingWithCopyWarning: \n",
      "A value is trying to be set on a copy of a slice from a DataFrame\n",
      "\n",
      "See the caveats in the documentation: http://pandas.pydata.org/pandas-docs/stable/indexing.html#indexing-view-versus-copy\n",
      "  self._setitem_with_indexer(indexer, value)\n"
     ]
    },
    {
     "data": {
      "text/plain": [
       "Country\n",
       "China                 1,367,645,161.29\n",
       "United States          317,615,384.615\n",
       "Japan                  127,409,395.973\n",
       "United Kingdom         63,870,967.7419\n",
       "Russian Federation       143,500,000.0\n",
       "Canada                 35,239,864.8649\n",
       "Germany                80,369,696.9697\n",
       "India                 1,276,730,769.23\n",
       "France                 63,837,349.3976\n",
       "South Korea            49,805,429.8643\n",
       "Italy                  59,908,256.8807\n",
       "Spain                  46,443,396.2264\n",
       "Iran                   77,075,630.2521\n",
       "Australia               23,316,017.316\n",
       "Brazil                 205,915,254.237\n",
       "Name: PopEst, dtype: object"
      ]
     },
     "execution_count": 5,
     "metadata": {},
     "output_type": "execute_result"
    }
   ],
   "source": [
    "def answer_thirteen():\n",
    "    Top15 = answer_one()\n",
    "    Top15['PopEst'] = (Top15['Energy Supply']) / Top15['Energy Supply per Capita']\n",
    "    df = Top15['PopEst']\n",
    "    for i in range(len(df)): \n",
    "        df.iloc[i] = '{:,}'.format(df.iloc[i])\n",
    "    return df\n",
    "answer_thirteen()\n",
    "\n"
   ]
  },
  {
   "cell_type": "code",
   "execution_count": null,
   "metadata": {
    "collapsed": false
   },
   "outputs": [],
   "source": []
  },
  {
   "cell_type": "code",
   "execution_count": null,
   "metadata": {
    "collapsed": true
   },
   "outputs": [],
   "source": []
  }
 ],
 "metadata": {
  "kernelspec": {
   "display_name": "Python 2",
   "language": "python",
   "name": "python2"
  },
  "language_info": {
   "codemirror_mode": {
    "name": "ipython",
    "version": 2
   },
   "file_extension": ".py",
   "mimetype": "text/x-python",
   "name": "python",
   "nbconvert_exporter": "python",
   "pygments_lexer": "ipython2",
   "version": "2.7.11"
  }
 },
 "nbformat": 4,
 "nbformat_minor": 0
}
